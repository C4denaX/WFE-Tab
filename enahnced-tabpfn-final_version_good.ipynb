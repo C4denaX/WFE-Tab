{
 "cells": [
  {
   "cell_type": "markdown",
   "metadata": {
    "papermill": {
     "duration": 0.008017,
     "end_time": "2024-02-06T10:34:36.011774",
     "exception": false,
     "start_time": "2024-02-06T10:34:36.003757",
     "status": "completed"
    },
    "tags": []
   },
   "source": [
    "# First Stage: Clustering for classes distribution\n"
   ]
  },
  {
   "cell_type": "code",
   "execution_count": 57,
   "metadata": {
    "execution": {
     "iopub.execute_input": "2024-02-06T10:34:36.029725Z",
     "iopub.status.busy": "2024-02-06T10:34:36.028645Z",
     "iopub.status.idle": "2024-02-06T10:34:36.033554Z",
     "shell.execute_reply": "2024-02-06T10:34:36.034257Z",
     "shell.execute_reply.started": "2024-02-06T10:28:43.036608Z"
    },
    "papermill": {
     "duration": 0.015682,
     "end_time": "2024-02-06T10:34:36.034432",
     "exception": false,
     "start_time": "2024-02-06T10:34:36.018750",
     "status": "completed"
    },
    "tags": []
   },
   "outputs": [],
   "source": [
    "#!pip install tabpfn"
   ]
  },
  {
   "cell_type": "code",
   "execution_count": 58,
   "metadata": {},
   "outputs": [],
   "source": [
    "import pandas as pd\n",
    "from sklearn.ensemble import ExtraTreesClassifier\n",
    "from sklearn.cluster import KMeans\n",
    "from sklearn.utils import shuffle\n",
    "from sklearn.preprocessing import StandardScaler\n",
    "import numpy as np\n",
    "import pandas as pd\n",
    "from tabpfn import TabPFNClassifier\n",
    "from sklearn.model_selection import train_test_split\n",
    "from sklearn.utils import shuffle\n",
    "from sklearn.metrics import confusion_matrix,f1_score\n",
    "import numpy as np\n",
    "import torch\n",
    "import gc\n",
    "with torch.no_grad():\n",
    "    torch.cuda.empty_cache()\n",
    "    gc.collect()"
   ]
  },
  {
   "cell_type": "code",
   "execution_count": 59,
   "metadata": {},
   "outputs": [],
   "source": [
    "from collections import defaultdict\n",
    "from collections import Counter\n",
    "\n",
    "def weighted_majority_voting(models, weights, data):\n",
    "    # Hacer todas las predicciones primero\n",
    "    all_predictions = [model.predict(data) for model in models]\n",
    "\n",
    "    # Inicializar la lista de votos mayoritarios\n",
    "    majority_votes = []\n",
    "\n",
    "    # Para cada conjunto de predicciones (una para cada dato)\n",
    "    for predictions in zip(*all_predictions):\n",
    "        # Inicializar el diccionario de votos para este conjunto de predicciones\n",
    "        votes = defaultdict(float)\n",
    "\n",
    "        # Para cada predicción y su modelo correspondiente\n",
    "        for prediction, weight in zip(predictions, weights):\n",
    "            # Obtener el peso para esta clase\n",
    "            value = weight[prediction]\n",
    "\n",
    "            # Añadir los votos ponderados al diccionario\n",
    "            votes[prediction] += value\n",
    "        print(votes)\n",
    "        # Obtener la clase con el mayor número de votos para este conjunto de predicciones\n",
    "        majority_vote = max(votes, key=votes.get)\n",
    "        print(majority_vote)\n",
    "        # Añadir el voto mayoritario a la lista de votos mayoritarios\n",
    "        majority_votes.append(majority_vote)\n",
    "\n",
    "    return majority_votes\n",
    "\n",
    "def majority_voting(models, data):\n",
    "    # Make predictions for all models\n",
    "    all_predictions = [model.predict(data) for model in models]\n",
    "\n",
    "    # Initialize the list of majority votes\n",
    "    majority_votes = []\n",
    "\n",
    "    # For each set of predictions (one for each data point)\n",
    "    for predictions in zip(*all_predictions):\n",
    "        # Count the occurrences of each prediction\n",
    "        vote_counts = Counter(predictions)\n",
    "\n",
    "        # Get the most common prediction\n",
    "        majority_vote = vote_counts.most_common(1)[0][0]\n",
    "\n",
    "        # Add the majority vote to the list of majority votes\n",
    "        majority_votes.append(majority_vote)\n",
    "\n",
    "    return majority_votes\n"
   ]
  },
  {
   "cell_type": "code",
   "execution_count": 60,
   "metadata": {},
   "outputs": [],
   "source": [
    "from sklearn.ensemble import ExtraTreesClassifier\n",
    "def get_best_features(X_train,y_train,num_feat):\n",
    "    extra_tree_forest = ExtraTreesClassifier(n_estimators = 1900,\n",
    "                                            criterion ='entropy',random_state=0)\n",
    "\n",
    "    # Training the model\n",
    "    extra_tree_forest.fit(X_train, y_train)\n",
    "\n",
    "    # Computing the importance of each feature\n",
    "    feature_importance = extra_tree_forest.feature_importances_\n",
    "\n",
    "    # Normalizing the individual importances\n",
    "    feature_importance_normalized = np.std([tree.feature_importances_ for tree in\n",
    "                                            extra_tree_forest.estimators_],\n",
    "                                            axis = 0)\n",
    "    #Mostramos la importancia calculada para cada feature\n",
    "    return pd.DataFrame({'feat': feature_importance_normalized }, index=X_train.columns).sort_values(by='feat', ascending=False)[\"feat\"][:num_feat].index.values"
   ]
  },
  {
   "cell_type": "code",
   "execution_count": 61,
   "metadata": {
    "execution": {
     "iopub.execute_input": "2024-02-06T10:34:36.069392Z",
     "iopub.status.busy": "2024-02-06T10:34:36.068527Z",
     "iopub.status.idle": "2024-02-06T10:34:55.155801Z",
     "shell.execute_reply": "2024-02-06T10:34:55.156942Z",
     "shell.execute_reply.started": "2024-02-06T10:28:51.787746Z"
    },
    "papermill": {
     "duration": 19.11589,
     "end_time": "2024-02-06T10:34:55.157164",
     "exception": false,
     "start_time": "2024-02-06T10:34:36.041274",
     "status": "completed"
    },
    "tags": []
   },
   "outputs": [],
   "source": [
    "from sklearn.cluster import KMeans\n",
    "from sklearn.utils import shuffle\n",
    "from sklearn.preprocessing import StandardScaler\n",
    "import numpy as np\n",
    "import pandas as pd\n",
    "from tabpfn import TabPFNClassifier\n",
    "#Check out all functionalities at https://scikit-learn.org/stable/modules/generated/sklearn.cluster.KMeans.html\n",
    "df = pd.read_csv(\"data/ML-EdgeIIoT-dataset.csv\",low_memory=False)\n",
    "\n",
    "kmeans_demo2 = KMeans(n_clusters=2,init='k-means++',random_state=0)\n",
    "kmeans_demo4 = KMeans(n_clusters=4,init='k-means++',random_state=0)\n",
    "kmeans_demo5 = KMeans(n_clusters=5,init='k-means++',random_state=0)\n",
    "kmeans_demo6 = KMeans(init='k-means++',random_state=0) #random centroid intialization\n",
    "\n",
    "\n",
    "drop_columns = [\"frame.time\", \"ip.src_host\", \"ip.dst_host\", \"arp.src.proto_ipv4\",\"arp.dst.proto_ipv4\", \n",
    "                \"http.file_data\",\"http.request.full_uri\",\"icmp.transmit_timestamp\",\n",
    "                \"http.request.uri.query\", \"tcp.options\",\"tcp.payload\",\"tcp.srcport\",\n",
    "                \"tcp.dstport\", \"udp.port\", \"mqtt.msg\"]\n",
    "\n",
    "df.drop(drop_columns, axis=1, inplace=True)\n",
    "df.dropna(axis=0, how='any', inplace=True)\n",
    "df.drop_duplicates(subset=None, keep=\"first\", inplace=True)\n",
    "df = shuffle(df)\n",
    "\n",
    "def encode_text_dummy(df, name):\n",
    "    dummies = pd.get_dummies(df[name])\n",
    "    for x in dummies.columns:\n",
    "        dummy_name = f\"{name}-{x}\"\n",
    "        df[dummy_name] = dummies[x]\n",
    "    df.drop(name, axis=1, inplace=True)\n",
    "    \n",
    "encode_text_dummy(df,'http.request.method')\n",
    "encode_text_dummy(df,'http.referer')\n",
    "encode_text_dummy(df,\"http.request.version\")\n",
    "encode_text_dummy(df,\"dns.qry.name.len\")\n",
    "encode_text_dummy(df,\"mqtt.conack.flags\")\n",
    "encode_text_dummy(df,\"mqtt.protoname\")\n",
    "encode_text_dummy(df,\"mqtt.topic\")\n",
    "\n",
    "df = df[df[\"Attack_type\"]!= \"Normal\"]\n",
    "\n",
    "X = df.drop(\"Attack_type\",axis=1)\n",
    "\n",
    "scale = StandardScaler()\n",
    "X[X.columns] = scale.fit_transform(X)\n",
    "\n",
    "#f = get_best_features(X,df[\"Attack_type\"],25)\n",
    "f = ['http.request.version-0.0', 'http.request.method-0.0',\n",
    " 'http.request.version-0', 'http.request.method-0', 'http.referer-0.0',\n",
    " 'http.referer-0', 'tcp.flags', 'tcp.flags.ack', 'tcp.checksum', 'tcp.ack_raw',\n",
    " 'icmp.checksum', 'udp.stream', 'tcp.connection.syn', 'icmp.seq_le', 'tcp.ack',\n",
    " 'tcp.connection.rst', 'tcp.seq', 'tcp.len', 'http.request.version-HTTP/1.1',\n",
    " 'http.request.method-GET', 'http.response', 'http.content_length',\n",
    " 'tcp.connection.fin', 'dns.qry.name', 'http.request.version-HTTP/1.0']\n",
    "#Let us fit our synthetic datapoints into the kmeans object\n",
    "X = X[f]\n",
    "X[\"cluster_2\"] = kmeans_demo2.fit_predict(X)\n",
    "X[\"cluster_4\"] = kmeans_demo4.fit_predict(X)\n",
    "X[\"cluster_5\"] = kmeans_demo5.fit_predict(X)\n",
    "X[\"cluster_6\"] = kmeans_demo6.fit_predict(X)\n",
    "X[\"Attack_type\"] = df[\"Attack_type\"]\n",
    "\n"
   ]
  },
  {
   "cell_type": "code",
   "execution_count": 62,
   "metadata": {
    "execution": {
     "iopub.execute_input": "2024-02-06T10:34:55.192358Z",
     "iopub.status.busy": "2024-02-06T10:34:55.191363Z",
     "iopub.status.idle": "2024-02-06T10:34:57.291194Z",
     "shell.execute_reply": "2024-02-06T10:34:57.290428Z",
     "shell.execute_reply.started": "2024-02-06T10:29:09.603080Z"
    },
    "papermill": {
     "duration": 2.125354,
     "end_time": "2024-02-06T10:34:57.291320",
     "exception": false,
     "start_time": "2024-02-06T10:34:55.165966",
     "status": "completed"
    },
    "tags": []
   },
   "outputs": [
    {
     "name": "stdout",
     "output_type": "stream",
     "text": [
      "[{'DDoS_HTTP': 0}, {'Password': 0}, {'SQL_injection': 0}, {'Uploading': 0}, {'Vulnerability_scanner': 0}, {'XSS': 0}, {'Backdoor': 1}, {'DDoS_ICMP': 1}, {'DDoS_TCP': 1}, {'DDoS_UDP': 1}, {'Fingerprinting': 1}, {'MITM': 1}, {'Port_Scanning': 1}, {'Ransomware': 1}]\n",
      "[{'Password': 0}, {'SQL_injection': 0}, {'Uploading': 0}, {'Backdoor': 1}, {'Port_Scanning': 1}, {'Ransomware': 1}, {'DDoS_ICMP': 2}, {'DDoS_TCP': 2}, {'DDoS_UDP': 2}, {'Fingerprinting': 2}, {'MITM': 2}, {'DDoS_HTTP': 3}, {'Vulnerability_scanner': 3}, {'XSS': 3}]\n",
      "[{'Password': 0}, {'SQL_injection': 0}, {'Uploading': 0}, {'DDoS_ICMP': 1}, {'DDoS_UDP': 1}, {'Fingerprinting': 1}, {'MITM': 1}, {'DDoS_HTTP': 2}, {'Vulnerability_scanner': 2}, {'XSS': 2}, {'Backdoor': 3}, {'Port_Scanning': 3}, {'Ransomware': 3}, {'DDoS_TCP': 4}]\n",
      "[{'Password': 0}, {'SQL_injection': 0}, {'Uploading': 0}, {'DDoS_ICMP': 1}, {'Fingerprinting': 1}, {'DDoS_HTTP': 2}, {'Vulnerability_scanner': 2}, {'XSS': 2}, {'Backdoor': 3}, {'Ransomware': 3}, {'DDoS_TCP': 4}, {'Port_Scanning': 6}, {'DDoS_UDP': 7}, {'MITM': 7}]\n",
      "[{'DDoS_HTTP': 0}, {'DDoS_ICMP': 0}, {'DDoS_TCP': 0}, {'DDoS_UDP': 0}, {'Fingerprinting': 1}, {'MITM': 1}, {'Vulnerability_scanner': 1}, {'XSS': 1}, {'Backdoor': 2}, {'Port_Scanning': 2}, {'Password': 3}, {'Ransomware': 3}, {'SQL_injection': 3}, {'Uploading': 3}]\n"
     ]
    }
   ],
   "source": [
    "total_attack_type = X['Attack_type'].value_counts()\n",
    "extra_cluster = {'DDoS_ICMP': 1, 'DDoS_TCP': 1, 'DDoS_UDP': 1, 'Fingerprinting': 2, 'MITM': 2, 'DDoS_HTTP': 1, 'Vulnerability_scanner': 2, 'XSS': 2, 'Backdoor': 3, 'Port_Scanning': 3, 'Ransomware': 4, 'Password': 4, 'SQL_injection': 4, 'Uploading': 4}\n",
    "extra_cluster = {k: v - 1 for k, v in extra_cluster.items()}\n",
    "X[\"prueba\"] = df['Attack_type'].map(extra_cluster)\n",
    "clusters = [\"cluster_2\",\"cluster_4\",\"cluster_5\",\"cluster_6\",\"prueba\"]\n",
    "final_assign = {}\n",
    "data_division = {}\n",
    "for cluster in clusters:\n",
    "    assigned = {cluster: []}\n",
    "    data_division.update({cluster: []})\n",
    "    grouped = X.groupby([cluster, 'Attack_type']).size().reset_index(name='counts')\n",
    "\n",
    "    # Para obtener las proporciones, puedes dividir cada grupo por el total de su Attack_type\n",
    "    proportions = grouped['counts'] / grouped['Attack_type'].map(total_attack_type)\n",
    "\n",
    "    # Añadimos las proporciones al DataFrame 'grouped'\n",
    "    grouped['proportions'] = proportions\n",
    "    # Agrupamos por 'cluster' y encontramos el tipo de ataque con la mayor proporción en cada uno\n",
    "    max_cluster = grouped.groupby('Attack_type')['proportions'].idxmax()\n",
    "\n",
    "    # Usamos los índices para seleccionar las filas correspondientes en 'grouped'\n",
    "    max_proportions = grouped.loc[max_cluster]\n",
    "\n",
    "    ordered = max_proportions.sort_values(by=cluster)\n",
    "    for c,a in zip(ordered[cluster],ordered[\"Attack_type\"]):\n",
    "        assigned[cluster].append({a : c})\n",
    "        X.loc[X[\"Attack_type\"] == a,cluster] = c\n",
    "    num_clusters = np.unique(X[cluster])\n",
    "    by_cluster = X.groupby(cluster)\n",
    "    print(assigned[cluster])\n",
    "    for i in num_clusters:\n",
    "        data_division[cluster].append(by_cluster.get_group(i))"
   ]
  },
  {
   "cell_type": "markdown",
   "metadata": {
    "papermill": {
     "duration": 0.008062,
     "end_time": "2024-02-06T10:34:57.308134",
     "exception": false,
     "start_time": "2024-02-06T10:34:57.300072",
     "status": "completed"
    },
    "tags": []
   },
   "source": [
    "# Generation of the data blocks for the different kind of classifier"
   ]
  },
  {
   "cell_type": "code",
   "execution_count": 63,
   "metadata": {
    "execution": {
     "iopub.execute_input": "2024-02-06T10:34:57.353411Z",
     "iopub.status.busy": "2024-02-06T10:34:57.352597Z",
     "iopub.status.idle": "2024-02-06T10:34:58.157026Z",
     "shell.execute_reply": "2024-02-06T10:34:58.157662Z",
     "shell.execute_reply.started": "2024-02-06T10:29:10.815684Z"
    },
    "papermill": {
     "duration": 0.841043,
     "end_time": "2024-02-06T10:34:58.157827",
     "exception": false,
     "start_time": "2024-02-06T10:34:57.316784",
     "status": "completed"
    },
    "tags": []
   },
   "outputs": [],
   "source": [
    "#Pre-requisites variables and libraries\n",
    "from sklearn.model_selection import train_test_split\n",
    "from sklearn.utils import shuffle\n",
    "X_train, X_test, X_val, y_train, y_test, y_val = [],[],[],[],[],[]\n",
    "#2 blocks\n",
    "block_data2 = data_division[\"prueba\"]\n",
    "anomalous_data = block_data2.pop(3)\n",
    "anomalous_data.loc[:, \"Attack_type\"] = \"Anomalous\"\n",
    "for i in range(len(block_data2)):\n",
    "    foregein_data = block_data2[i-1].sample(4000,random_state=0)\n",
    "    if i != 3:\n",
    "        local_df = pd.concat([block_data2[i],anomalous_data.sample(4000,random_state=0),foregein_data])\n",
    "        local_X = local_df.drop(\"Attack_type\",axis=1)\n",
    "        local_y = local_df[\"Attack_type\"]\n",
    "        X_train_t, X_temp, y_train_t, y_temp = train_test_split(local_X,local_y,train_size=0.7,stratify=local_y,shuffle=True\n",
    "                                                                ,random_state=0)\n",
    "        X_val_t, X_test_t, y_val_t, y_test_t = train_test_split(X_temp, y_temp, test_size=0.7, stratify=y_temp, shuffle=True, random_state=0)\n",
    "        X_train.append(X_train_t)\n",
    "        X_test.append(X_test_t)\n",
    "        X_val.append(X_val_t)\n",
    "        y_train.append(y_train_t)\n",
    "        y_test.append(y_test_t)\n",
    "        y_val.append(y_val_t)"
   ]
  },
  {
   "cell_type": "code",
   "execution_count": 64,
   "metadata": {},
   "outputs": [],
   "source": [
    "models = []\n",
    "weights = []\n",
    "def train_models(num_models):\n",
    "    models = []\n",
    "    weights = []\n",
    "    for i in range(len(X_train)):\n",
    "        for _ in range(num_models):\n",
    "            model = TabPFNClassifier(\"cuda\", N_ensemble_configurations=4,seed=num_models)\n",
    "            model.fit(X_train[i][num_models*1023:1023*num_models+1023], y_train[i][num_models*1023:1023*num_models+1023])\n",
    "            models.append(model)\n",
    "\n",
    "            y_pred = model.predict(X_val[i])\n",
    "            cm = confusion_matrix(y_val[i], y_pred)\n",
    "            prop_correct = np.diag(cm) / np.sum(cm, axis=1)\n",
    "            classes = model.classes_\n",
    "\n",
    "            weight = {}\n",
    "            for class_pred, prop in zip(classes,prop_correct):\n",
    "                weight[class_pred] = prop\n",
    "            weights.append(weight)\n",
    "\n",
    "    return models, weights\n"
   ]
  },
  {
   "cell_type": "code",
   "execution_count": 83,
   "metadata": {},
   "outputs": [
    {
     "name": "stdout",
     "output_type": "stream",
     "text": [
      "Loading model that can be used for inference only\n",
      "Using a Transformer with 25.82 M parameters\n"
     ]
    },
    {
     "name": "stderr",
     "output_type": "stream",
     "text": [
      "/home/usuario/Sergio/tabpfn-enhanced/.tabpfn/lib/python3.10/site-packages/torch/utils/checkpoint.py:460: UserWarning: torch.utils.checkpoint: please pass in use_reentrant=True or use_reentrant=False explicitly. The default value of use_reentrant will be updated to be False in the future. To maintain current behavior, pass use_reentrant=True. It is recommended that you use use_reentrant=False. Refer to docs for more details on the differences between the two variants.\n",
      "  warnings.warn(\n"
     ]
    },
    {
     "name": "stdout",
     "output_type": "stream",
     "text": [
      "Loading model that can be used for inference only\n",
      "Using a Transformer with 25.82 M parameters\n"
     ]
    },
    {
     "name": "stderr",
     "output_type": "stream",
     "text": [
      "/home/usuario/Sergio/tabpfn-enhanced/.tabpfn/lib/python3.10/site-packages/torch/utils/checkpoint.py:460: UserWarning: torch.utils.checkpoint: please pass in use_reentrant=True or use_reentrant=False explicitly. The default value of use_reentrant will be updated to be False in the future. To maintain current behavior, pass use_reentrant=True. It is recommended that you use use_reentrant=False. Refer to docs for more details on the differences between the two variants.\n",
      "  warnings.warn(\n"
     ]
    },
    {
     "name": "stdout",
     "output_type": "stream",
     "text": [
      "Loading model that can be used for inference only\n",
      "Using a Transformer with 25.82 M parameters\n"
     ]
    },
    {
     "name": "stderr",
     "output_type": "stream",
     "text": [
      "/home/usuario/Sergio/tabpfn-enhanced/.tabpfn/lib/python3.10/site-packages/torch/utils/checkpoint.py:460: UserWarning: torch.utils.checkpoint: please pass in use_reentrant=True or use_reentrant=False explicitly. The default value of use_reentrant will be updated to be False in the future. To maintain current behavior, pass use_reentrant=True. It is recommended that you use use_reentrant=False. Refer to docs for more details on the differences between the two variants.\n",
      "  warnings.warn(\n"
     ]
    },
    {
     "name": "stdout",
     "output_type": "stream",
     "text": [
      "Loading model that can be used for inference only\n",
      "Using a Transformer with 25.82 M parameters\n"
     ]
    },
    {
     "name": "stderr",
     "output_type": "stream",
     "text": [
      "/home/usuario/Sergio/tabpfn-enhanced/.tabpfn/lib/python3.10/site-packages/torch/utils/checkpoint.py:460: UserWarning: torch.utils.checkpoint: please pass in use_reentrant=True or use_reentrant=False explicitly. The default value of use_reentrant will be updated to be False in the future. To maintain current behavior, pass use_reentrant=True. It is recommended that you use use_reentrant=False. Refer to docs for more details on the differences between the two variants.\n",
      "  warnings.warn(\n"
     ]
    },
    {
     "name": "stdout",
     "output_type": "stream",
     "text": [
      "Loading model that can be used for inference only\n",
      "Using a Transformer with 25.82 M parameters\n"
     ]
    },
    {
     "name": "stderr",
     "output_type": "stream",
     "text": [
      "/home/usuario/Sergio/tabpfn-enhanced/.tabpfn/lib/python3.10/site-packages/torch/utils/checkpoint.py:460: UserWarning: torch.utils.checkpoint: please pass in use_reentrant=True or use_reentrant=False explicitly. The default value of use_reentrant will be updated to be False in the future. To maintain current behavior, pass use_reentrant=True. It is recommended that you use use_reentrant=False. Refer to docs for more details on the differences between the two variants.\n",
      "  warnings.warn(\n"
     ]
    },
    {
     "name": "stdout",
     "output_type": "stream",
     "text": [
      "Loading model that can be used for inference only\n",
      "Using a Transformer with 25.82 M parameters\n"
     ]
    },
    {
     "name": "stderr",
     "output_type": "stream",
     "text": [
      "/home/usuario/Sergio/tabpfn-enhanced/.tabpfn/lib/python3.10/site-packages/torch/utils/checkpoint.py:460: UserWarning: torch.utils.checkpoint: please pass in use_reentrant=True or use_reentrant=False explicitly. The default value of use_reentrant will be updated to be False in the future. To maintain current behavior, pass use_reentrant=True. It is recommended that you use use_reentrant=False. Refer to docs for more details on the differences between the two variants.\n",
      "  warnings.warn(\n"
     ]
    },
    {
     "name": "stdout",
     "output_type": "stream",
     "text": [
      "Loading model that can be used for inference only\n",
      "Using a Transformer with 25.82 M parameters\n"
     ]
    },
    {
     "name": "stderr",
     "output_type": "stream",
     "text": [
      "/home/usuario/Sergio/tabpfn-enhanced/.tabpfn/lib/python3.10/site-packages/torch/utils/checkpoint.py:460: UserWarning: torch.utils.checkpoint: please pass in use_reentrant=True or use_reentrant=False explicitly. The default value of use_reentrant will be updated to be False in the future. To maintain current behavior, pass use_reentrant=True. It is recommended that you use use_reentrant=False. Refer to docs for more details on the differences between the two variants.\n",
      "  warnings.warn(\n"
     ]
    },
    {
     "name": "stdout",
     "output_type": "stream",
     "text": [
      "Loading model that can be used for inference only\n",
      "Using a Transformer with 25.82 M parameters\n"
     ]
    },
    {
     "name": "stderr",
     "output_type": "stream",
     "text": [
      "/home/usuario/Sergio/tabpfn-enhanced/.tabpfn/lib/python3.10/site-packages/torch/utils/checkpoint.py:460: UserWarning: torch.utils.checkpoint: please pass in use_reentrant=True or use_reentrant=False explicitly. The default value of use_reentrant will be updated to be False in the future. To maintain current behavior, pass use_reentrant=True. It is recommended that you use use_reentrant=False. Refer to docs for more details on the differences between the two variants.\n",
      "  warnings.warn(\n"
     ]
    },
    {
     "name": "stdout",
     "output_type": "stream",
     "text": [
      "Loading model that can be used for inference only\n",
      "Using a Transformer with 25.82 M parameters\n"
     ]
    },
    {
     "name": "stderr",
     "output_type": "stream",
     "text": [
      "/home/usuario/Sergio/tabpfn-enhanced/.tabpfn/lib/python3.10/site-packages/torch/utils/checkpoint.py:460: UserWarning: torch.utils.checkpoint: please pass in use_reentrant=True or use_reentrant=False explicitly. The default value of use_reentrant will be updated to be False in the future. To maintain current behavior, pass use_reentrant=True. It is recommended that you use use_reentrant=False. Refer to docs for more details on the differences between the two variants.\n",
      "  warnings.warn(\n"
     ]
    },
    {
     "name": "stdout",
     "output_type": "stream",
     "text": [
      "Loading model that can be used for inference only\n",
      "Using a Transformer with 25.82 M parameters\n"
     ]
    },
    {
     "name": "stderr",
     "output_type": "stream",
     "text": [
      "/home/usuario/Sergio/tabpfn-enhanced/.tabpfn/lib/python3.10/site-packages/torch/utils/checkpoint.py:460: UserWarning: torch.utils.checkpoint: please pass in use_reentrant=True or use_reentrant=False explicitly. The default value of use_reentrant will be updated to be False in the future. To maintain current behavior, pass use_reentrant=True. It is recommended that you use use_reentrant=False. Refer to docs for more details on the differences between the two variants.\n",
      "  warnings.warn(\n"
     ]
    },
    {
     "name": "stdout",
     "output_type": "stream",
     "text": [
      "Loading model that can be used for inference only\n",
      "Using a Transformer with 25.82 M parameters\n"
     ]
    },
    {
     "name": "stderr",
     "output_type": "stream",
     "text": [
      "/home/usuario/Sergio/tabpfn-enhanced/.tabpfn/lib/python3.10/site-packages/torch/utils/checkpoint.py:460: UserWarning: torch.utils.checkpoint: please pass in use_reentrant=True or use_reentrant=False explicitly. The default value of use_reentrant will be updated to be False in the future. To maintain current behavior, pass use_reentrant=True. It is recommended that you use use_reentrant=False. Refer to docs for more details on the differences between the two variants.\n",
      "  warnings.warn(\n"
     ]
    },
    {
     "name": "stdout",
     "output_type": "stream",
     "text": [
      "Loading model that can be used for inference only\n",
      "Using a Transformer with 25.82 M parameters\n"
     ]
    },
    {
     "name": "stderr",
     "output_type": "stream",
     "text": [
      "/home/usuario/Sergio/tabpfn-enhanced/.tabpfn/lib/python3.10/site-packages/torch/utils/checkpoint.py:460: UserWarning: torch.utils.checkpoint: please pass in use_reentrant=True or use_reentrant=False explicitly. The default value of use_reentrant will be updated to be False in the future. To maintain current behavior, pass use_reentrant=True. It is recommended that you use use_reentrant=False. Refer to docs for more details on the differences between the two variants.\n",
      "  warnings.warn(\n"
     ]
    },
    {
     "name": "stdout",
     "output_type": "stream",
     "text": [
      "Loading model that can be used for inference only\n",
      "Using a Transformer with 25.82 M parameters\n"
     ]
    },
    {
     "name": "stderr",
     "output_type": "stream",
     "text": [
      "/home/usuario/Sergio/tabpfn-enhanced/.tabpfn/lib/python3.10/site-packages/torch/utils/checkpoint.py:460: UserWarning: torch.utils.checkpoint: please pass in use_reentrant=True or use_reentrant=False explicitly. The default value of use_reentrant will be updated to be False in the future. To maintain current behavior, pass use_reentrant=True. It is recommended that you use use_reentrant=False. Refer to docs for more details on the differences between the two variants.\n",
      "  warnings.warn(\n"
     ]
    },
    {
     "name": "stdout",
     "output_type": "stream",
     "text": [
      "Loading model that can be used for inference only\n",
      "Using a Transformer with 25.82 M parameters\n"
     ]
    },
    {
     "name": "stderr",
     "output_type": "stream",
     "text": [
      "/home/usuario/Sergio/tabpfn-enhanced/.tabpfn/lib/python3.10/site-packages/torch/utils/checkpoint.py:460: UserWarning: torch.utils.checkpoint: please pass in use_reentrant=True or use_reentrant=False explicitly. The default value of use_reentrant will be updated to be False in the future. To maintain current behavior, pass use_reentrant=True. It is recommended that you use use_reentrant=False. Refer to docs for more details on the differences between the two variants.\n",
      "  warnings.warn(\n"
     ]
    },
    {
     "name": "stdout",
     "output_type": "stream",
     "text": [
      "Loading model that can be used for inference only\n",
      "Using a Transformer with 25.82 M parameters\n"
     ]
    },
    {
     "name": "stderr",
     "output_type": "stream",
     "text": [
      "/home/usuario/Sergio/tabpfn-enhanced/.tabpfn/lib/python3.10/site-packages/torch/utils/checkpoint.py:460: UserWarning: torch.utils.checkpoint: please pass in use_reentrant=True or use_reentrant=False explicitly. The default value of use_reentrant will be updated to be False in the future. To maintain current behavior, pass use_reentrant=True. It is recommended that you use use_reentrant=False. Refer to docs for more details on the differences between the two variants.\n",
      "  warnings.warn(\n",
      "/home/usuario/Sergio/tabpfn-enhanced/.tabpfn/lib/python3.10/site-packages/torch/utils/checkpoint.py:460: UserWarning: torch.utils.checkpoint: please pass in use_reentrant=True or use_reentrant=False explicitly. The default value of use_reentrant will be updated to be False in the future. To maintain current behavior, pass use_reentrant=True. It is recommended that you use use_reentrant=False. Refer to docs for more details on the differences between the two variants.\n",
      "  warnings.warn(\n",
      "/home/usuario/Sergio/tabpfn-enhanced/.tabpfn/lib/python3.10/site-packages/torch/utils/checkpoint.py:460: UserWarning: torch.utils.checkpoint: please pass in use_reentrant=True or use_reentrant=False explicitly. The default value of use_reentrant will be updated to be False in the future. To maintain current behavior, pass use_reentrant=True. It is recommended that you use use_reentrant=False. Refer to docs for more details on the differences between the two variants.\n",
      "  warnings.warn(\n",
      "/home/usuario/Sergio/tabpfn-enhanced/.tabpfn/lib/python3.10/site-packages/torch/utils/checkpoint.py:460: UserWarning: torch.utils.checkpoint: please pass in use_reentrant=True or use_reentrant=False explicitly. The default value of use_reentrant will be updated to be False in the future. To maintain current behavior, pass use_reentrant=True. It is recommended that you use use_reentrant=False. Refer to docs for more details on the differences between the two variants.\n",
      "  warnings.warn(\n",
      "/home/usuario/Sergio/tabpfn-enhanced/.tabpfn/lib/python3.10/site-packages/torch/utils/checkpoint.py:460: UserWarning: torch.utils.checkpoint: please pass in use_reentrant=True or use_reentrant=False explicitly. The default value of use_reentrant will be updated to be False in the future. To maintain current behavior, pass use_reentrant=True. It is recommended that you use use_reentrant=False. Refer to docs for more details on the differences between the two variants.\n",
      "  warnings.warn(\n",
      "/home/usuario/Sergio/tabpfn-enhanced/.tabpfn/lib/python3.10/site-packages/torch/utils/checkpoint.py:460: UserWarning: torch.utils.checkpoint: please pass in use_reentrant=True or use_reentrant=False explicitly. The default value of use_reentrant will be updated to be False in the future. To maintain current behavior, pass use_reentrant=True. It is recommended that you use use_reentrant=False. Refer to docs for more details on the differences between the two variants.\n",
      "  warnings.warn(\n",
      "/home/usuario/Sergio/tabpfn-enhanced/.tabpfn/lib/python3.10/site-packages/torch/utils/checkpoint.py:460: UserWarning: torch.utils.checkpoint: please pass in use_reentrant=True or use_reentrant=False explicitly. The default value of use_reentrant will be updated to be False in the future. To maintain current behavior, pass use_reentrant=True. It is recommended that you use use_reentrant=False. Refer to docs for more details on the differences between the two variants.\n",
      "  warnings.warn(\n",
      "/home/usuario/Sergio/tabpfn-enhanced/.tabpfn/lib/python3.10/site-packages/torch/utils/checkpoint.py:460: UserWarning: torch.utils.checkpoint: please pass in use_reentrant=True or use_reentrant=False explicitly. The default value of use_reentrant will be updated to be False in the future. To maintain current behavior, pass use_reentrant=True. It is recommended that you use use_reentrant=False. Refer to docs for more details on the differences between the two variants.\n",
      "  warnings.warn(\n",
      "/home/usuario/Sergio/tabpfn-enhanced/.tabpfn/lib/python3.10/site-packages/torch/utils/checkpoint.py:460: UserWarning: torch.utils.checkpoint: please pass in use_reentrant=True or use_reentrant=False explicitly. The default value of use_reentrant will be updated to be False in the future. To maintain current behavior, pass use_reentrant=True. It is recommended that you use use_reentrant=False. Refer to docs for more details on the differences between the two variants.\n",
      "  warnings.warn(\n",
      "/home/usuario/Sergio/tabpfn-enhanced/.tabpfn/lib/python3.10/site-packages/torch/utils/checkpoint.py:460: UserWarning: torch.utils.checkpoint: please pass in use_reentrant=True or use_reentrant=False explicitly. The default value of use_reentrant will be updated to be False in the future. To maintain current behavior, pass use_reentrant=True. It is recommended that you use use_reentrant=False. Refer to docs for more details on the differences between the two variants.\n",
      "  warnings.warn(\n",
      "/home/usuario/Sergio/tabpfn-enhanced/.tabpfn/lib/python3.10/site-packages/torch/utils/checkpoint.py:460: UserWarning: torch.utils.checkpoint: please pass in use_reentrant=True or use_reentrant=False explicitly. The default value of use_reentrant will be updated to be False in the future. To maintain current behavior, pass use_reentrant=True. It is recommended that you use use_reentrant=False. Refer to docs for more details on the differences between the two variants.\n",
      "  warnings.warn(\n",
      "/home/usuario/Sergio/tabpfn-enhanced/.tabpfn/lib/python3.10/site-packages/torch/utils/checkpoint.py:460: UserWarning: torch.utils.checkpoint: please pass in use_reentrant=True or use_reentrant=False explicitly. The default value of use_reentrant will be updated to be False in the future. To maintain current behavior, pass use_reentrant=True. It is recommended that you use use_reentrant=False. Refer to docs for more details on the differences between the two variants.\n",
      "  warnings.warn(\n",
      "/home/usuario/Sergio/tabpfn-enhanced/.tabpfn/lib/python3.10/site-packages/torch/utils/checkpoint.py:460: UserWarning: torch.utils.checkpoint: please pass in use_reentrant=True or use_reentrant=False explicitly. The default value of use_reentrant will be updated to be False in the future. To maintain current behavior, pass use_reentrant=True. It is recommended that you use use_reentrant=False. Refer to docs for more details on the differences between the two variants.\n",
      "  warnings.warn(\n",
      "/home/usuario/Sergio/tabpfn-enhanced/.tabpfn/lib/python3.10/site-packages/torch/utils/checkpoint.py:460: UserWarning: torch.utils.checkpoint: please pass in use_reentrant=True or use_reentrant=False explicitly. The default value of use_reentrant will be updated to be False in the future. To maintain current behavior, pass use_reentrant=True. It is recommended that you use use_reentrant=False. Refer to docs for more details on the differences between the two variants.\n",
      "  warnings.warn(\n",
      "/home/usuario/Sergio/tabpfn-enhanced/.tabpfn/lib/python3.10/site-packages/torch/utils/checkpoint.py:460: UserWarning: torch.utils.checkpoint: please pass in use_reentrant=True or use_reentrant=False explicitly. The default value of use_reentrant will be updated to be False in the future. To maintain current behavior, pass use_reentrant=True. It is recommended that you use use_reentrant=False. Refer to docs for more details on the differences between the two variants.\n",
      "  warnings.warn(\n",
      "/home/usuario/Sergio/tabpfn-enhanced/.tabpfn/lib/python3.10/site-packages/torch/utils/checkpoint.py:460: UserWarning: torch.utils.checkpoint: please pass in use_reentrant=True or use_reentrant=False explicitly. The default value of use_reentrant will be updated to be False in the future. To maintain current behavior, pass use_reentrant=True. It is recommended that you use use_reentrant=False. Refer to docs for more details on the differences between the two variants.\n",
      "  warnings.warn(\n"
     ]
    }
   ],
   "source": [
    "#y_pred = weighted_majority_voting(models, weights, pd.concat([X_test[0],X_test[1],X_test[2]]))\n",
    "models, weights =train_models(5)\n",
    "y_pred = majority_voting(models, pd.concat([X_test[0],X_test[1],X_test[2]]))\n",
    "with torch.no_grad():\n",
    "    torch.cuda.empty_cache()\n",
    "    gc.collect()"
   ]
  },
  {
   "cell_type": "code",
   "execution_count": 84,
   "metadata": {},
   "outputs": [
    {
     "name": "stdout",
     "output_type": "stream",
     "text": [
      "                       precision    recall  f1-score   support\n",
      "\n",
      "            Anomalous       1.00      1.00      1.00      2520\n",
      "             Backdoor       1.00      1.00      1.00      2508\n",
      "            DDoS_HTTP       0.87      1.00      0.93      2385\n",
      "            DDoS_ICMP       1.00      1.00      1.00      2971\n",
      "             DDoS_TCP       1.00      1.00      1.00      2342\n",
      "             DDoS_UDP       1.00      1.00      1.00      3293\n",
      "       Fingerprinting       1.00      1.00      1.00       213\n",
      "                 MITM       1.00      0.33      0.50        90\n",
      "        Port_Scanning       0.97      1.00      0.99      2278\n",
      "Vulnerability_scanner       0.94      0.78      0.85      2514\n",
      "                  XSS       0.87      0.88      0.87      2395\n",
      "\n",
      "             accuracy                           0.96     23509\n",
      "            macro avg       0.97      0.91      0.92     23509\n",
      "         weighted avg       0.96      0.96      0.96     23509\n",
      "\n"
     ]
    }
   ],
   "source": [
    "from sklearn.metrics import classification_report\n",
    "import numpy as np\n",
    "\n",
    "y_test_concatenated = np.concatenate(y_test)\n",
    "print(classification_report(y_test_concatenated, y_pred,zero_division=np.nan))\n"
   ]
  },
  {
   "cell_type": "code",
   "execution_count": 85,
   "metadata": {},
   "outputs": [
    {
     "name": "stdout",
     "output_type": "stream",
     "text": [
      "Accuracy: 0.9619720107192989\n",
      "Precision: 0.9673418686133978\n",
      "Recall: 0.9087198913263556\n",
      "F1 Score: 0.9217984612864776\n"
     ]
    }
   ],
   "source": [
    "from sklearn.metrics import precision_score, recall_score, f1_score, accuracy_score\n",
    "\n",
    "precision = precision_score(y_test_concatenated, y_pred, average=\"macro\")\n",
    "recall = recall_score(y_test_concatenated, y_pred, average=\"macro\")\n",
    "f1 = f1_score(y_test_concatenated, y_pred, average=\"macro\")\n",
    "acc = accuracy_score(y_test_concatenated, y_pred)\n",
    "\n",
    "print(\"Accuracy:\", acc)\n",
    "print(\"Precision:\", precision)\n",
    "print(\"Recall:\", recall)\n",
    "print(\"F1 Score:\", f1)\n"
   ]
  },
  {
   "cell_type": "code",
   "execution_count": 96,
   "metadata": {},
   "outputs": [
    {
     "name": "stdout",
     "output_type": "stream",
     "text": [
      "Confusion matrix, without normalization\n"
     ]
    },
    {
     "data": {
      "image/png": "[encoded data removed]",
      "text/plain": [
       "<Figure size 2500x1000 with 2 Axes>"
      ]
     },
     "metadata": {},
     "output_type": "display_data"
    }
   ],
   "source": [
    "import matplotlib.pyplot as plt\n",
    "import numpy as np\n",
    "from sklearn import metrics\n",
    "import itertools\n",
    "\n",
    "cm = metrics.confusion_matrix(y_test_concatenated, y_pred)\n",
    "\n",
    "def plot_confusion_matrix(cm, classes, normalize=False, title='Confusion matrix', cmap=plt.cm.Blues):\n",
    "    plt.imshow(cm, interpolation='nearest', cmap=cmap)\n",
    "    plt.title(title)\n",
    "    plt.colorbar()\n",
    "    tick_marks = np.arange(len(classes))\n",
    "    plt.xticks(tick_marks, classes, rotation=45)\n",
    "    plt.yticks(tick_marks, classes)\n",
    "    if normalize:\n",
    "        cm = cm.astype('float') / cm.sum(axis=1)[:, np.newaxis]\n",
    "        print(\"Normalized confusion matrix\")\n",
    "    else:\n",
    "        print('Confusion matrix, without normalization')\n",
    "    thresh = cm.max() / 2.\n",
    "    for i, j in itertools.product(range(cm.shape[0]), range(cm.shape[1])):\n",
    "        plt.text(j, i, cm[i, j], horizontalalignment=\"center\", color=\"white\" if cm[i, j] > thresh else \"black\")\n",
    "    plt.tight_layout()\n",
    "    plt.ylabel('True label')\n",
    "    plt.xlabel('Predicted label')\n",
    "\n",
    "# Call the function with your confusion matrix and class labels\n",
    "class_names = ['Anomalous', 'Backdoor', 'DoS_HTTP', 'DoS_ICMP', 'DoS_TCP', 'DoS_UDP', 'Fingerprinting', 'MITM', 'Port_Scanning', 'Vulnerability_scanner', 'XSS']  # Replace with your actual class names\n",
    "plt.figure(figsize=(25,10))\n",
    "plot_confusion_matrix(cm, classes=class_names)\n",
    "plt.savefig('figure1.pdf',orientation=\"portrait\",pad_inches=0.1)\n",
    "plt.show()\n"
   ]
  }
 ],
 "metadata": {
  "kaggle": {
   "accelerator": "none",
   "dataSources": [
    {
     "datasetId": 1870444,
     "sourceId": 3319673,
     "sourceType": "datasetVersion"
    },
    {
     "datasetId": 4391380,
     "sourceId": 7541165,
     "sourceType": "datasetVersion"
    }
   ],
   "dockerImageVersionId": 30042,
   "isGpuEnabled": false,
   "isInternetEnabled": true,
   "language": "python",
   "sourceType": "notebook"
  },
  "kernelspec": {
   "display_name": "Python 3",
   "language": "python",
   "name": "python3"
  },
  "language_info": {
   "codemirror_mode": {
    "name": "ipython",
    "version": 3
   },
   "file_extension": ".py",
   "mimetype": "text/x-python",
   "name": "python",
   "nbconvert_exporter": "python",
   "pygments_lexer": "ipython3",
   "version": "3.10.12"
  },
  "papermill": {
   "duration": 27.018676,
   "end_time": "2024-02-06T10:34:58.275548",
   "environment_variables": {},
   "exception": null,
   "input_path": "__notebook__.ipynb",
   "output_path": "__notebook__.ipynb",
   "parameters": {},
   "start_time": "2024-02-06T10:34:31.256872",
   "version": "2.1.0"
  }
 },
 "nbformat": 4,
 "nbformat_minor": 4
}
